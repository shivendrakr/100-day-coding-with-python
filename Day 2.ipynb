{
 "cells": [
  {
   "cell_type": "markdown",
   "metadata": {},
   "source": [
    "### 2nd Day of 100 day\n",
    "\n",
    "1. Write a Python program to print the documents (syntax, description etc.) of Python built-in function(s)."
   ]
  },
  {
   "cell_type": "code",
   "execution_count": 1,
   "metadata": {},
   "outputs": [
    {
     "name": "stdout",
     "output_type": "stream",
     "text": [
      "Return the absolute value of the argument.\n"
     ]
    }
   ],
   "source": [
    "print (abs.__doc__)"
   ]
  },
  {
   "cell_type": "markdown",
   "metadata": {},
   "source": [
    "2. Write a Python program to print the calendar of a given month and year.\n",
    "\n",
    ". Note : Use 'calendar' module."
   ]
  },
  {
   "cell_type": "code",
   "execution_count": 2,
   "metadata": {},
   "outputs": [
    {
     "name": "stdout",
     "output_type": "stream",
     "text": [
      "Input the year : 2018\n",
      "Input the month : 2\n",
      "   February 2018\n",
      "Mo Tu We Th Fr Sa Su\n",
      "          1  2  3  4\n",
      " 5  6  7  8  9 10 11\n",
      "12 13 14 15 16 17 18\n",
      "19 20 21 22 23 24 25\n",
      "26 27 28\n",
      "\n"
     ]
    }
   ],
   "source": [
    "import calendar\n",
    "y = int(input(\"Input the year : \"))\n",
    "m = int(input(\"Input the month : \"))\n",
    "print(calendar.month(y, m))"
   ]
  },
  {
   "cell_type": "markdown",
   "metadata": {},
   "source": [
    "3. Write a Python program to print the following here document."
   ]
  },
  {
   "cell_type": "code",
   "execution_count": 3,
   "metadata": {},
   "outputs": [
    {
     "name": "stdout",
     "output_type": "stream",
     "text": [
      "a string that you \"Don't\" have to escape\n",
      "this\n",
      "is a .......... multi-line \n",
      "heredoc string ------> example \n",
      "\n"
     ]
    }
   ],
   "source": [
    "print (\"\"\"a string that you \"Don't\" have to escape\n",
    "this\n",
    "is a .......... multi-line \n",
    "heredoc string ------> example \n",
    "\"\"\")"
   ]
  },
  {
   "cell_type": "markdown",
   "metadata": {},
   "source": [
    "4. Write a Python program to calculate number of days between two dates."
   ]
  },
  {
   "cell_type": "code",
   "execution_count": 4,
   "metadata": {},
   "outputs": [
    {
     "name": "stdout",
     "output_type": "stream",
     "text": [
      "9\n"
     ]
    }
   ],
   "source": [
    "from datetime import date\n",
    "f_date = date(2014, 7, 2)\n",
    "l_date = date(2014, 7, 11)\n",
    "delta = l_date - f_date\n",
    "print(delta.days)\n"
   ]
  },
  {
   "cell_type": "code",
   "execution_count": 5,
   "metadata": {},
   "outputs": [
    {
     "name": "stdout",
     "output_type": "stream",
     "text": [
      "440 days\n"
     ]
    }
   ],
   "source": [
    "# Python3 program two find number of \n",
    "# days between two given dates \n",
    "\n",
    "# A date has day 'd', month 'm' and year 'y' \n",
    "class Date: \n",
    "\tdef __init__(self, d, m, y): \n",
    "\t\tself.d = d\t\t\t \n",
    "\t\tself.m = m \n",
    "\t\tself.y = y \n",
    "\n",
    "# To store number of days in all months from \n",
    "# January to Dec. \n",
    "monthDays = [31, 28, 31, 30, 31, 30, \n",
    "\t\t\t\t\t\t31, 31, 30, 31, 30, 31 ] \n",
    "\n",
    "# This function counts number of leap years \n",
    "# before the given date \n",
    "def countLeapYears(d): \n",
    "\t\n",
    "\tyears = d.y \n",
    "\t\n",
    "\t# Check if the current year needs to be considered \n",
    "\t# for the count of leap years or not \n",
    "\tif (d.m <= 2) : \n",
    "\t\tyears-= 1\n",
    "\t\t\n",
    "\t# An year is a leap year if it is a multiple of 4, \n",
    "\t# multiple of 400 and not a multiple of 100. \n",
    "\treturn int(years / 4 - years / 100 + years / 400 ) \n",
    "\n",
    "\n",
    "# This function returns number of days between two \n",
    "# given dates \n",
    "def getDifference(dt1, dt2) : \n",
    "\n",
    "\t# COUNT TOTAL NUMBER OF DAYS BEFORE FIRST DATE 'dt1' \n",
    "\n",
    "\t# initialize count using years and day \n",
    "\tn1 = dt1.y * 365 + dt1.d \n",
    "\n",
    "\t# Add days for months in given date \n",
    "\tfor i in range(0, dt1.m - 1) : \n",
    "\t\tn1 += monthDays[i] \n",
    "\n",
    "\t# Since every leap year is of 366 days, \n",
    "\t# Add a day for every leap year \n",
    "\tn1 += countLeapYears(dt1) \n",
    "\n",
    "\t# SIMILARLY, COUNT TOTAL NUMBER OF DAYS BEFORE 'dt2' \n",
    "\n",
    "\tn2 = dt2.y * 365 + dt2.d \n",
    "\tfor i in range(0, dt2.m - 1) : \n",
    "\t\tn2 += monthDays[i] \n",
    "\tn2 += countLeapYears(dt2) \n",
    "\n",
    "\t# return difference between two counts \n",
    "\treturn (n2 - n1) \n",
    "\n",
    "\n",
    "# Driver program \n",
    "dt1 = Date(13, 12, 2020 ) \n",
    "dt2 = Date(25, 2, 2022 ) \n",
    "\n",
    "print(getDifference(dt1, dt2), \"days\") \n",
    "#https://www.geeksforgeeks.org/python-program-to-find-number-of-days-between-two-given-dates/"
   ]
  },
  {
   "cell_type": "markdown",
   "metadata": {},
   "source": [
    "5. Write a Python program to get the the volume of a sphere with radius"
   ]
  },
  {
   "cell_type": "code",
   "execution_count": 10,
   "metadata": {},
   "outputs": [
    {
     "name": "stdout",
     "output_type": "stream",
     "text": [
      "radius is :6\n",
      "Area of sphere is with radius6.0 is 904.7786842338603\n"
     ]
    }
   ],
   "source": [
    "from math import pi\n",
    "r=float(input ('radius is :'))\n",
    "print ('Area of sphere is with radius ' +str(r)+' is ' + str (4/3*pi*r**3))"
   ]
  },
  {
   "cell_type": "markdown",
   "metadata": {},
   "source": [
    "* 6 Write a Python program to get the difference between a given number and 17, if the number is greater than 17 return double the absolute difference."
   ]
  },
  {
   "cell_type": "code",
   "execution_count": 14,
   "metadata": {},
   "outputs": [
    {
     "name": "stdout",
     "output_type": "stream",
     "text": [
      "10\n",
      "3\n"
     ]
    }
   ],
   "source": [
    "def diff(n):\n",
    "    if n<=17:\n",
    "        return (17-n)\n",
    "    else :\n",
    "        return (n-17) *2\n",
    "        \n",
    "print (diff(22))\n",
    "print (diff(14))"
   ]
  },
  {
   "cell_type": "markdown",
   "metadata": {},
   "source": [
    "* The print() function writes, i.e., \"prints\", a string or a number on the console. The return statement does not print out the value it returns when the function is called. It however causes the function to exit or terminate immediately, even if it is not the last statement of the function."
   ]
  },
  {
   "cell_type": "markdown",
   "metadata": {},
   "source": [
    "7. Write a Python program to test whether a number is within 100 of 1000 or 2000"
   ]
  },
  {
   "cell_type": "code",
   "execution_count": 17,
   "metadata": {},
   "outputs": [
    {
     "name": "stdout",
     "output_type": "stream",
     "text": [
      "number is someting else \n"
     ]
    }
   ],
   "source": [
    "def check_number (n):\n",
    "    if 100<n<1000:\n",
    "        return 'number in between 100 and 1000'\n",
    "    else :\n",
    "        return 'number is someting else '\n",
    "    \n",
    "print (check_number(2))"
   ]
  },
  {
   "cell_type": "code",
   "execution_count": 18,
   "metadata": {},
   "outputs": [
    {
     "name": "stdout",
     "output_type": "stream",
     "text": [
      "True\n",
      "True\n",
      "False\n",
      "False\n"
     ]
    }
   ],
   "source": [
    "def near_thousand(n):\n",
    "      return ((abs(1000 - n) <= 100) or (abs(2000 - n) <= 100))\n",
    "print(near_thousand(1000))\n",
    "print(near_thousand(900))\n",
    "print(near_thousand(800))   \n",
    "print(near_thousand(2200))\n"
   ]
  },
  {
   "cell_type": "markdown",
   "metadata": {},
   "source": [
    "8. Write a Python program to calculate the sum of three given numbers, if the values are equal then return three times of their sum."
   ]
  },
  {
   "cell_type": "code",
   "execution_count": 29,
   "metadata": {},
   "outputs": [
    {
     "name": "stdout",
     "output_type": "stream",
     "text": [
      "9\n",
      "12\n",
      "36\n"
     ]
    }
   ],
   "source": [
    "def sum (x,y,z):\n",
    "    #sum_is = x+y+z\n",
    "    if x==y==z:\n",
    "        return (3*(x+y+z))\n",
    "    else :\n",
    "        return (x+y+z)\n",
    "    \n",
    "print (sum(1,1,1))\n",
    "print (sum(2,3,7))\n",
    "print (sum(4,4,4))"
   ]
  },
  {
   "cell_type": "markdown",
   "metadata": {},
   "source": [
    "9. Write a Python program to get a new string from a given string where \"Is\" has been added to the front. If the given string already begins with \"Is\" then return the string unchanged."
   ]
  },
  {
   "cell_type": "code",
   "execution_count": 31,
   "metadata": {},
   "outputs": [
    {
     "name": "stdout",
     "output_type": "stream",
     "text": [
      "Is shivendra \n",
      "Is shivendra\n"
     ]
    }
   ],
   "source": [
    "def new_string (str):\n",
    "    if len(str)>=2 and str[:2]=='Is':\n",
    "        return str \n",
    "    return 'Is' + str\n",
    "\n",
    "print (new_string(' shivendra '))\n",
    "print (new_string('Is shivendra'))"
   ]
  },
  {
   "cell_type": "markdown",
   "metadata": {},
   "source": [
    "10. Write a Python program to get a string which is n (non-negative integer) copies of a given string"
   ]
  },
  {
   "cell_type": "code",
   "execution_count": 33,
   "metadata": {},
   "outputs": [
    {
     "name": "stdout",
     "output_type": "stream",
     "text": [
      ".py\n",
      ".py.py.py\n"
     ]
    }
   ],
   "source": [
    "string =str( input (''))\n",
    "print (string*3)"
   ]
  },
  {
   "cell_type": "code",
   "execution_count": 34,
   "metadata": {},
   "outputs": [
    {
     "name": "stdout",
     "output_type": "stream",
     "text": [
      "abcabc\n",
      ".py.py.py\n"
     ]
    }
   ],
   "source": [
    "def larger_string(str, n):\n",
    "   result = \"\"\n",
    "   for i in range(n):\n",
    "      result = result + str\n",
    "   return result\n",
    "\n",
    "print(larger_string('abc', 2))\n",
    "print(larger_string('.py', 3))\n"
   ]
  },
  {
   "cell_type": "markdown",
   "metadata": {},
   "source": [
    "11. Find whether a given number is even or odd, print out an appropriate message to the user"
   ]
  },
  {
   "cell_type": "code",
   "execution_count": 35,
   "metadata": {},
   "outputs": [
    {
     "name": "stdout",
     "output_type": "stream",
     "text": [
      "Odd Number \n",
      "Even Numver\n"
     ]
    }
   ],
   "source": [
    "def even_odd(num):\n",
    "    if num%2==0:\n",
    "        return \"Even Numver\"\n",
    "    else :\n",
    "        return \"Odd Number \"\n",
    "    \n",
    "print (even_odd(9))\n",
    "print (even_odd(6))"
   ]
  },
  {
   "cell_type": "code",
   "execution_count": 36,
   "metadata": {},
   "outputs": [
    {
     "name": "stdout",
     "output_type": "stream",
     "text": [
      "Enter a number: 5\n",
      "This is an odd number.\n"
     ]
    }
   ],
   "source": [
    "num = int(input(\"Enter a number: \"))\n",
    "mod = num % 2\n",
    "if mod > 0:\n",
    "    print(\"This is an odd number.\")\n",
    "else:\n",
    "    print(\"This is an even number.\")"
   ]
  },
  {
   "cell_type": "markdown",
   "metadata": {},
   "source": [
    "12.  Write a Python program to count the number 4 in a given list."
   ]
  },
  {
   "cell_type": "code",
   "execution_count": 42,
   "metadata": {},
   "outputs": [
    {
     "name": "stdout",
     "output_type": "stream",
     "text": [
      "3\n",
      "5\n"
     ]
    }
   ],
   "source": [
    "def list_count_4(nums):\n",
    "    count =0\n",
    "    for num in nums:\n",
    "        if num==4:\n",
    "            count =count +1\n",
    "    return count \n",
    "\n",
    "print (list_count_4([1,1,2,4,5,54,4,4]))\n",
    "print (list_count_4([1,2,2,3,4,5,6,6,5,5,44,4,4,4,4]))"
   ]
  }
 ],
 "metadata": {
  "kernelspec": {
   "display_name": "Python 3",
   "language": "python",
   "name": "python3"
  },
  "language_info": {
   "codemirror_mode": {
    "name": "ipython",
    "version": 3
   },
   "file_extension": ".py",
   "mimetype": "text/x-python",
   "name": "python",
   "nbconvert_exporter": "python",
   "pygments_lexer": "ipython3",
   "version": "3.7.7"
  }
 },
 "nbformat": 4,
 "nbformat_minor": 4
}
